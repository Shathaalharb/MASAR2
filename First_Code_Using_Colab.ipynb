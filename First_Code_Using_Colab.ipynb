{
  "nbformat": 4,
  "nbformat_minor": 0,
  "metadata": {
    "colab": {
      "provenance": [],
      "toc_visible": true,
      "include_colab_link": true
    },
    "kernelspec": {
      "name": "python3",
      "display_name": "Python 3"
    },
    "language_info": {
      "name": "python"
    }
  },
  "cells": [
    {
      "cell_type": "markdown",
      "metadata": {
        "id": "view-in-github",
        "colab_type": "text"
      },
      "source": [
        "<a href=\"https://colab.research.google.com/github/Shathaalharb/MASAR2/blob/main/First_Code_Using_Colab.ipynb\" target=\"_parent\"><img src=\"https://colab.research.google.com/assets/colab-badge.svg\" alt=\"Open In Colab\"/></a>"
      ]
    },
    {
      "cell_type": "markdown",
      "source": [
        "# First code and examples"
      ],
      "metadata": {
        "id": "-lfuiNwLbSUX"
      }
    },
    {
      "cell_type": "code",
      "execution_count": 1,
      "metadata": {
        "colab": {
          "base_uri": "https://localhost:8080/"
        },
        "id": "LZLnUkvCavD9",
        "outputId": "6b75ba02-b110-4420-a996-19965c343f2a"
      },
      "outputs": [
        {
          "output_type": "stream",
          "name": "stdout",
          "text": [
            "Hello Masar!\n"
          ]
        }
      ],
      "source": [
        "# first coding using colab\n",
        "\n",
        "print(\"Hello Masar!\")\n"
      ]
    },
    {
      "cell_type": "markdown",
      "source": [
        "## Simple Examples"
      ],
      "metadata": {
        "id": "rvcHtCW2bby_"
      }
    },
    {
      "cell_type": "code",
      "source": [
        "# Define a variable and print its value\n",
        "x = 5\n",
        "print(x)\n"
      ],
      "metadata": {
        "colab": {
          "base_uri": "https://localhost:8080/"
        },
        "id": "u7vWty1odRKu",
        "outputId": "40bbd866-3af2-4002-80b1-5ce9f95c2755"
      },
      "execution_count": 2,
      "outputs": [
        {
          "output_type": "stream",
          "name": "stdout",
          "text": [
            "5\n"
          ]
        }
      ]
    },
    {
      "cell_type": "code",
      "source": [
        "# Perform a simple calculation and print the result\n",
        "y = x + 3\n",
        "print(y)"
      ],
      "metadata": {
        "colab": {
          "base_uri": "https://localhost:8080/"
        },
        "id": "GlsFpzYpdUok",
        "outputId": "4cf533df-80b6-4600-e331-ad564334d5b4"
      },
      "execution_count": 3,
      "outputs": [
        {
          "output_type": "stream",
          "name": "stdout",
          "text": [
            "8\n"
          ]
        }
      ]
    },
    {
      "cell_type": "markdown",
      "source": [
        "# Print a simple message"
      ],
      "metadata": {
        "id": "jZDXnrWjdewD"
      }
    },
    {
      "cell_type": "code",
      "source": [
        "# Print a simple message\n",
        "print(\"شذى العظيمة\")"
      ],
      "metadata": {
        "id": "3i-IJBZobjzF",
        "colab": {
          "base_uri": "https://localhost:8080/"
        },
        "outputId": "e10ba73b-2f9a-4881-f18e-85dd25cd5a07"
      },
      "execution_count": 4,
      "outputs": [
        {
          "output_type": "stream",
          "name": "stdout",
          "text": [
            "شذى العظيمة\n"
          ]
        }
      ]
    }
  ]
}